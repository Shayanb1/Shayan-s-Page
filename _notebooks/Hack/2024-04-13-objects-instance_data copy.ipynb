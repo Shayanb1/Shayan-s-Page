{
 "cells": [
  {
   "cell_type": "markdown",
   "metadata": {},
   "source": [
    "## What's in this hack?\n",
    "### 1) Combine Concept of Object Literal and Object Instance\n",
    "- The playerData array is defined using object literals to store data about each player (name, health, and powers).\n",
    "\n",
    "### 2) An Array of Player Object Instances, while giving them Health and Power\n",
    "- The players array holds the Player instances, and each player has a name, health, and powers. These powers are represented as an object containing specific attributes like speed, strength, and defense. For example, Raphael’s speed can be 10, strength is 2, and defense is 8.\n",
    "- I created a gameloop that keeps cycling until only one character is left with more than 0 HP\n",
    "- Each character loses HP (Health Points) per every round, depending on how strong the other characters are\n",
    "- Leader board is displayed after every round with a round counter until a winner has been picked.\n",
    "- Characters have been elimenated once they reach 0 HP."
   ]
  },
  {
   "cell_type": "code",
   "execution_count": null,
   "metadata": {
    "vscode": {
     "languageId": "javascript"
    }
   },
   "outputs": [
    {
     "data": {
      "application/javascript": "\n// Player class definition\nclass Player {\n    constructor(name, health, powers) {\n        this.name = name;       // The player's name\n        this.health = health;   // The player's health\n        this.powers = powers;   // The player's powers (speed, strength, defense, etc.)\n    }\n\n    // Method to check if the player is still alive\n    isAlive() {\n        return this.health > 0;\n    }\n\n    // Method to randomly select a power\n    getRandomPower() {\n        const keys = Object.keys(this.powers);\n        return keys[Math.floor(Math.random() * keys.length)];\n    }\n\n    // Method to use a specific power and return its value\n    usePower(power) {\n        return this.powers[power];\n    }\n}\n\n// Player data with powers\nconst playerData = [\n    {name: \"Raphael\", health: 100, powers: {speed: 21, strength: 51, defense: 1}},\n    {name: \"Leonardo\", health: 100, powers: {speed: 2, strength: 2, defense: 2}},\n    {name: \"Mikey\", health: 100, powers: {speed: 3, strength: 3, defense: 3}},\n    {name: \"Donatello\", health: 100, powers: {speed: 3.1, strength: 3.1, defense: 3.1}}\n];\n\n// Find 3 people besides yourself, have them pick a character\n// Keep heath at 100, edit strength speed and defence for the character you picked (make sure the 3 values add to 100)\n// Run the hack and see who wins, dont forget to have fun!!\n\n// Create Player instances\nlet players = playerData.map(p => new Player(p.name, p.health, p.powers));\n\n// Round counter\nlet roundCounter = 1;\n\n// Game loop\nwhile (players.filter(p => p.isAlive()).length > 1) {\n    console.log(`\\n--- Round ${roundCounter} ---`);\n\n    // Loop through each player for battle\n    players.forEach(attacker => {\n        // Only battle if the player is alive\n        if (!attacker.isAlive()) return;\n\n        players.forEach(defender => {\n            // Skip if attacking the same player or the defender is dead\n            if (attacker === defender || !defender.isAlive()) return;\n\n            // Select a random power for the attacker\n            let power = attacker.getRandomPower();\n            let attackValue = attacker.usePower(power);  // Get attacker's power value\n            let defenseValue = defender.usePower(power); // Get defender's defense value\n\n            // Health reduction rules:\n            defender.health -= 1; // Every battle lowers the defender's health by 1\n\n            // If the attacker's value is higher than the defender's defense, inflict extra damage\n            if (attackValue > defenseValue) {\n                defender.health -= 10; // Inflict an additional 10 damage if the attacker wins\n            }\n        });\n    });\n\n    // Show the leaderboard after the round\n    console.log(`Leaderboard after round ${roundCounter}:`);\n    players.forEach(p => {\n        console.log(`${p.name}: ${p.health > 0 ? p.health : 0} HP`);\n    });\n\n    // Kill players whose health is 0 or less\n    players.forEach(p => {\n        if (p.health <= 0) {\n            p.health = 0; // Ensure health is 0 for eliminated players\n        }\n    });\n\n    roundCounter++; // Increase round count\n}\n\n// Final result: Declare the winner\nlet winner = players.find(p => p.isAlive());\nif (winner) {\n    console.log(`\\n🏆 The winner is ${winner.name} with ${winner.health} HP!`);\n} else {\n    console.log(\"\\n💀 All players are dead. No winner.\");\n}\n",
      "text/plain": [
       "<IPython.core.display.Javascript object>"
      ]
     },
     "metadata": {},
     "output_type": "display_data"
    }
   ],
   "source": [
    "%%js \n",
    "\n",
    "// Player class definition\n",
    "class Player {\n",
    "    constructor(name, health, powers) {\n",
    "        this.name = name;       // Player's name\n",
    "        this.health = health;   // Player's health\n",
    "        this.powers = powers;   // Player's powers (speed, strength, defense)\n",
    "    }\n",
    "\n",
    "    // Method to check if the player is still alive by checking if player has more than 0 health.\n",
    "    isAlive() {\n",
    "        return this.health > 0;\n",
    "    }\n",
    "\n",
    "    // Method to randomly select a power\n",
    "    getRandomPower() {\n",
    "        const keys = Object.keys(this.powers);\n",
    "        return keys[Math.floor(Math.random() * keys.length)];\n",
    "    }\n",
    "\n",
    "    // Method to use a specific power and return its value\n",
    "    usePower(power) {\n",
    "        return this.powers[power];\n",
    "    }\n",
    "}\n",
    "\n",
    "// Player data with powers (Here you pick you player strengths and weaknesses)\n",
    "const playerData = [\n",
    "    {name: \"Raphael\", health: 100, powers: {speed: 21, strength: 51, defense: 1}},\n",
    "    {name: \"Leonardo\", health: 100, powers: {speed: 2, strength: 2, defense: 2}},\n",
    "    {name: \"Mikey\", health: 100, powers: {speed: 3, strength: 3, defense: 3}},\n",
    "    {name: \"Donatello\", health: 100, powers: {speed: 3.1, strength: 3.1, defense: 3.1}}\n",
    "];\n",
    "\n",
    "// Find 3 people besides yourself, have them pick a character\n",
    "// Keep heath at 100, edit strength speed and defence for the character you picked (make sure the 3 values add to 100)\n",
    "// Run the hack and see who wins, dont forget to have fun!!\n",
    "\n",
    "// Create Player data (Name, Health, and Strengths)\n",
    "let players = playerData.map(p => new Player(p.name, p.health, p.powers));\n",
    "\n",
    "// Round counter\n",
    "let roundCounter = 1;\n",
    "\n",
    "// Game loop\n",
    "while (players.filter(p => p.isAlive()).length > 1) {\n",
    "    console.log(`\\n--- Round ${roundCounter} ---`);\n",
    "\n",
    "    // Loop through each player for battle\n",
    "    players.forEach(attacker => {\n",
    "        // Only battle if the player is alive\n",
    "        if (!attacker.isAlive()) return;\n",
    "\n",
    "        players.forEach(defender => {\n",
    "            // Skip if attacking the same player or the defender is dead\n",
    "            if (attacker === defender || !defender.isAlive()) return;\n",
    "\n",
    "            // Select a random power for the attacker\n",
    "            let power = attacker.getRandomPower();\n",
    "            let attackValue = attacker.usePower(power);  // Get attacker's power value\n",
    "            let defenseValue = defender.usePower(power); // Get defender's defense value\n",
    "\n",
    "            // Health reduction rules:\n",
    "            defender.health -= 1; // Every battle lowers the defender's health by 1\n",
    "\n",
    "            // If the attacker's value is higher than the defender's defense, inflict extra damage\n",
    "            if (attackValue > defenseValue) {\n",
    "                defender.health -= 10; // Inflict an additional 10 damage if the attacker wins\n",
    "            }\n",
    "        });\n",
    "    });\n",
    "\n",
    "    // Show the leaderboard after the round\n",
    "    console.log(`Leaderboard after round ${roundCounter}:`); // displays message 'leaderboard after round #'\n",
    "    players.forEach(p => {\n",
    "        console.log(`${p.name}: ${p.health > 0 ? p.health : 0} HP`); // Show each players health after every round\n",
    "    });\n",
    "\n",
    "    // Kill players whose health is 0 or less\n",
    "    players.forEach(p => {\n",
    "        if (p.health <= 0) {\n",
    "            p.health = 0; // Ensure health is 0 for eliminated players\n",
    "        }\n",
    "    });\n",
    "\n",
    "    roundCounter++; // Increase round count\n",
    "}\n",
    "\n",
    "// Final result: Declare the winner\n",
    "let winner = players.find(p => p.isAlive());\n",
    "if (winner) {\n",
    "    console.log(`\\n🏆 The winner is ${winner.name} with ${winner.health} HP!`); // Message showing who won\n",
    "} else {\n",
    "    console.log(\"\\n💀 All players are dead. No winner.\"); // Message showing the scenerio where all players had equal power.\n",
    "}"
   ]
  },
  {
   "cell_type": "markdown",
   "metadata": {},
   "source": [
    "## ⇩ Requirments ⇩\n",
    "\n",
    "1. In this notebook combine concept of Object Literal and Object Instance.  Use Object Literal as an intiaizer for the Object Instance.\n",
    "2. Make an array of Player object instances four or five, give them health and power, ie speed, strength, ...\n",
    "    * Make a game loop to cycle through each of the objects\n",
    "    * Each pass through the loop have a random object battle with all other objects using a random power\n",
    "    * Lower health by 1 on battle, lower health by 10 for loss\n",
    "    * Provide a leader board output each round\n",
    "    * Kill objects if their health goes to zero or less\n",
    "\n",
    "You can work with pair/treo, but each of you should have a different concept  "
   ]
  }
 ],
 "metadata": {
  "kernelspec": {
   "display_name": "Python 3",
   "language": "python",
   "name": "python3"
  },
  "language_info": {
   "codemirror_mode": {
    "name": "ipython",
    "version": 3
   },
   "file_extension": ".py",
   "mimetype": "text/x-python",
   "name": "python",
   "nbconvert_exporter": "python",
   "pygments_lexer": "ipython3",
   "version": "3.13.1"
  }
 },
 "nbformat": 4,
 "nbformat_minor": 2
}
