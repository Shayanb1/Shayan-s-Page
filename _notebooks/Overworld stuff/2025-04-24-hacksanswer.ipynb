{
 "cells": [
  {
   "cell_type": "markdown",
   "metadata": {},
   "source": [
    "Answer For Hack 1"
   ]
  },
  {
   "cell_type": "code",
   "execution_count": null,
   "metadata": {
    "vscode": {
     "languageId": "javascript"
    }
   },
   "outputs": [],
   "source": [
    "if (Math.random() < 0.03) {  // 3% chance per frame\n",
    "    let originalSpeed = this.speed;\n",
    "    this.speed *= 5; // Boost speed\n",
    "    setTimeout(() => {\n",
    "        this.speed = originalSpeed;\n",
    "    }, 1000); // Revert after 1 second\n",
    "}"
   ]
  }
 ],
 "metadata": {
  "language_info": {
   "name": "python"
  }
 },
 "nbformat": 4,
 "nbformat_minor": 2
}
