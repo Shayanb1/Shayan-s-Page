{
 "cells": [
  {
   "cell_type": "code",
   "execution_count": null,
   "metadata": {},
   "outputs": [],
   "source": [
    "---\n",
    "comments: True\n",
    "layout: post\n",
    "title: Game Hacks\n",
    "description: Game Hacks\n",
    "permalink: /GameHacks\n",
    "categories: [CSSE JavaScript Fundamentals]\n",
    "author: Shayan Bhatti\n",
    "---  "
   ]
  },
  {
   "cell_type": "markdown",
   "metadata": {},
   "source": [
    "### Hack #1 - A red square for player one and a green square for player two. There are some definitions in the game to support alternatives.\n",
    "\n",
    "I was not able to implement the hack into my actual game, but here is some code that I used to try and implement it: \n"
   ]
  },
  {
   "cell_type": "code",
   "execution_count": null,
   "metadata": {
    "vscode": {
     "languageId": "javascript"
    }
   },
   "outputs": [],
   "source": [
    "const player1_data = {\n",
    "    id: 'Player 1',\n",
    "    color: 'red',  // Red square\n",
    "    size: { width: 50, height: 50 },\n",
    "    INIT_POSITION: { x: 100, y: height - 100 },\n",
    "    pixels: {height: 384, width: 512},\n",
    "    orientation: {rows: 3, columns: 4 },\n",
    "    down: {row: 0, start: 0, columns: 3 },\n",
    "    left: {row: 2, start: 0, columns: 3 },\n",
    "    right: {row: 1, start: 0, columns: 3 },\n",
    "    up: {row: 3, start: 0, columns: 3 },\n",
    "    hitbox: { widthPercentage: 0.45, heightPercentage: 0.2 },\n",
    "    keypress: { up: 87, left: 65, down: 83, right: 68 }\n",
    "};\n",
    "\n",
    "//This is what was meant to be the red square for player one\n",
    "\n",
    "const player2_data = {\n",
    "    id: 'Player 2',\n",
    "    color: 'green',  // Green square\n",
    "    size: { width: 50, height: 50 },\n",
    "    INIT_POSITION: { x: width - 150, y: height - 100 },\n",
    "    pixels: {height: 384, width: 512},\n",
    "    orientation: {rows: 3, columns: 4 },\n",
    "    down: {row: 0, start: 0, columns: 3 },\n",
    "    left: {row: 2, start: 0, columns: 3 },\n",
    "    right: {row: 1, start: 0, columns: 3 },\n",
    "    up: {row: 3, start: 0, columns: 3 },\n",
    "    hitbox: { widthPercentage: 0.45, heightPercentage: 0.2 },\n",
    "    keypress: { up: 87, left: 65, down: 83, right: 68 }\n",
    "};\n",
    "\n",
    "//This was supposed to be the green square."
   ]
  },
  {
   "cell_type": "markdown",
   "metadata": {},
   "source": [
    "### Hack #2 - Instead of a static definition of the default direction as down, it would be beneficial if the snowspeeder was facing right.\n",
    "\n",
    "I tried this hack by changing `'down: {row: 0, start: 0, columns: 3 },'`\n",
    " to `'right: {row: 0, start: 0, columns: 3 },'`\n",
    " which was supposed to change the starting position of snowspeeder from down to right.\n",
    " I wasn't able to implement it into the game\n"
   ]
  },
  {
   "cell_type": "markdown",
   "metadata": {},
   "source": [
    "#### Hack #3 - Idle animations were lost along the way of development and should be revived.\n",
    "\n",
    "I was not able to implement this hack nor create the code for it."
   ]
  },
  {
   "cell_type": "markdown",
   "metadata": {},
   "source": [
    "### Hack #4 - Instead of idle being no movement, it seems like the snowspeeder or squid should be moving slightly according to their game environment.\n",
    "\n",
    "In my game I wanted my character to slowly move up and down (drifting) because I belive that it fits good with my game, I wasn't able to implement the code into the game, but here was my try at it:"
   ]
  },
  {
   "cell_type": "code",
   "execution_count": null,
   "metadata": {
    "vscode": {
     "languageId": "javascript"
    }
   },
   "outputs": [],
   "source": [
    "function updateDrift() {\n",
    "      driftTime += 0.05;\n",
    "      return Math.sin(driftTime) * 0.5;\n",
    "    }\n",
    "//This is the function of the drifting"
   ]
  },
  {
   "cell_type": "markdown",
   "metadata": {},
   "source": [
    "And this is the code that actually shows the person playing the game that the sprite is drifting: "
   ]
  },
  {
   "cell_type": "code",
   "execution_count": null,
   "metadata": {
    "vscode": {
     "languageId": "javascript"
    }
   },
   "outputs": [],
   "source": [
    "updatePosition: function () \n",
    " this.INIT_POSITION.y += updateDrift();"
   ]
  }
 ],
 "metadata": {
  "language_info": {
   "name": "python"
  }
 },
 "nbformat": 4,
 "nbformat_minor": 2
}
