{
 "cells": [
  {
   "cell_type": "markdown",
   "metadata": {},
   "source": [
    "---\n",
    "comments: true\n",
    "layout: post\n",
    "title: CSSE 2 Extra Credit Assignment\n",
    "description: Extra Credit for CSSE\n",
    "author: Shayan Bhatti\n",
    "permalink: /csse2-cred/\n",
    "---"
   ]
  },
  {
   "cell_type": "markdown",
   "metadata": {},
   "source": [
    "## 1 - Cybersecurity Landscape\n",
    "### Example of Cybersecurity breach\n",
    "- In one of the presenters companies, someone had noticed that another employee who was on a \"leave of abscense\" was still able to have the companies info because they were still in the companies chat, this slowly lead to this person stealing much of the companies info which put the company in great danger."
   ]
  },
  {
   "cell_type": "markdown",
   "metadata": {},
   "source": [
    "### If Cybersecurity is breached, why is it such a bad problem? \n",
    "\n",
    "- Cybersecurity has been shown to be a very serious, real-world threat where if it is breached, classified data can be released, which has a chance of completly ruining companies.\n",
    "\n",
    "### I feel like Cybersecurity is a very serious matter that applys to nearly every company, and every branch of government which makes it such an important topic, I feel like this would be useful for me because it would teache me how to work with many people, try to rely more on myself than others, and also learn how to catch hackers."
   ]
  },
  {
   "cell_type": "markdown",
   "metadata": {},
   "source": [
    "<hr>"
   ]
  },
  {
   "cell_type": "markdown",
   "metadata": {},
   "source": [
    "## 2 - Career Oppurtunities\n",
    "### Why should I be interested in Cyber Security?\n",
    "- After I had learned about the 3 sucesfull presenters, I noticed that all 3 of them had agreed on one thing, even if you don't know much about computers at first, you will be sucsessfull no matter what if you put in enough effort.\n",
    "- The only ways you can be sucesfull is if: People know who you are when you are near them, people want to be around you, people feel you respect others just as much as you wish to be respected."
   ]
  },
  {
   "cell_type": "markdown",
   "metadata": {},
   "source": [
    "<hr>"
   ]
  },
  {
   "cell_type": "markdown",
   "metadata": {},
   "source": [
    "## 3 - Future of Cybersecurity"
   ]
  },
  {
   "cell_type": "markdown",
   "metadata": {},
   "source": [
    "### What to look for in the future of Cybersecurity\n",
    "- Lots of new specialization for example, firing bad employees, and learning how to face against hackers\n",
    "- In the next 5-10 years, other countries like Russia, North Korea, Iran, ect. will be heavily specialized in the coding/cybersecurity industry, this could develope into a huge problem for USA cybersecurity which is why many specialized people in the cybersecurity industry will be needed in the future.\n"
   ]
  },
  {
   "cell_type": "markdown",
   "metadata": {},
   "source": [
    "### I feel like the Cybersecurity industry will need many skilled coders in the future to defend the USA's private info from other countries that are quickly gaining strength, which is why I belive that this industry is looking like a great fit for me in the future."
   ]
  },
  {
   "cell_type": "markdown",
   "metadata": {},
   "source": [
    "<hr>"
   ]
  },
  {
   "cell_type": "markdown",
   "metadata": {},
   "source": [
    "## Main Takeways from the presentation"
   ]
  },
  {
   "cell_type": "markdown",
   "metadata": {},
   "source": [
    "### After listening to all 3 of the presenters, my greatest takeway from the Cybersecurity presentation was definetly working against hackers. It sounds simple when first hearing about it, but after I listened to all of the presenters thoughts about it, I learned that it is much more complicated than it sounds. When working against a hacker I have to learn what stratagies the hacker is using, learn to work against their stratagies, keep what they are trying to steal away from them, and most importantly, protecting secret information before it is stolen."
   ]
  },
  {
   "cell_type": "markdown",
   "metadata": {},
   "source": [
    "<hr>"
   ]
  },
  {
   "cell_type": "markdown",
   "metadata": {},
   "source": [
    "<img width=\"425\" alt=\"Image\" src=\"https://github.com/user-attachments/assets/99b0bee6-055f-49ff-aba6-57ff2143702c\"/>"
   ]
  },
  {
   "cell_type": "markdown",
   "metadata": {},
   "source": [
    "<img width=\"421\" alt=\"Image\" src=\"https://github.com/user-attachments/assets/eadb1b2b-29b5-4c06-97a0-a026b5b20885\" />"
   ]
  }
 ],
 "metadata": {
  "language_info": {
   "name": "python"
  }
 },
 "nbformat": 4,
 "nbformat_minor": 2
}
