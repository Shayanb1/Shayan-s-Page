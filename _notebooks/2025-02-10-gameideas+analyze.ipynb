{
 "cells": [
  {
   "cell_type": "code",
   "execution_count": null,
   "metadata": {},
   "outputs": [],
   "source": [
    "---\n",
    "layout: post\n",
    "title: RPG\n",
    "description: RPG ideas\n",
    "categories: [CSSE JavaScript Fundamentals]\n",
    "courses: { csse: {week: 0}, csp: {week: 0 }, csa: {week: 0}}\n",
    "type: collab\n",
    "permalink: /RPG\n",
    "author: Paul, Shayan\n",
    "toc: true\n",
    "---"
   ]
  },
  {
   "cell_type": "markdown",
   "metadata": {},
   "source": [
    "## Flowchart to our game\n",
    "\n",
    "![Flow chart](/images/flowchartCSSE.png)\n",
    "\n",
    "These are our plans for our game"
   ]
  },
  {
   "cell_type": "markdown",
   "metadata": {},
   "source": [
    "## Plans for levels\n",
    "\n",
    "The general format of our levels will be where the play(Rachit) has to capture all of team Rachit, but in diffrent enviroments. There will be NPCs that the player must collide with to capture them. However, the NPCs will only have collision box on certain parts of them, so the player has to figure out where that collision box is. Once the met NPCs equals the # of npcs on the map, the game will prompt the player to advance to the next level.\n",
    "\n",
    "The first level of our game will be a grassland, and there will be 4-6 npcs sccatered around the map.\n",
    "\n",
    "The second level will be a"
   ]
  },
  {
   "cell_type": "markdown",
   "metadata": {},
   "source": [
    "## General NPC Mechanics\n",
    "\n",
    "#### Helper npcs\n",
    "Other than the npcs you must capture, there will be two npcs that you can talk to. The first npc will be Paul. Paul gives you tips on where the collision box of one of npcs is. The other npc is Shayan. Shayan will increase the size of the collision box of all npcs to help player. The player will spawn next to these npcs.\n",
    "\n",
    "### Ideas for  general npcs\n",
    "\n",
    "1. Ref\n",
    "2. Lebron\n",
    "3. Paul\n",
    "4. Shayan"
   ]
  },
  {
   "cell_type": "markdown",
   "metadata": {
    "vscode": {
     "languageId": "raw"
    }
   },
   "source": [
    "![Spritesheet]({{site.baseurl}}/images/spritesheet(1).png)"
   ]
  },
  {
   "cell_type": "code",
   "execution_count": null,
   "metadata": {},
   "outputs": [],
   "source": []
  },
  {
   "cell_type": "code",
   "execution_count": null,
   "metadata": {},
   "outputs": [],
   "source": []
  },
  {
   "cell_type": "markdown",
   "metadata": {},
   "source": [
    "<img src=\"/Users/shayanbhatti/SPgame/images/rpg/spritesheet.png\">"
   ]
  }
 ],
 "metadata": {
  "language_info": {
   "name": "python"
  }
 },
 "nbformat": 4,
 "nbformat_minor": 2
}
