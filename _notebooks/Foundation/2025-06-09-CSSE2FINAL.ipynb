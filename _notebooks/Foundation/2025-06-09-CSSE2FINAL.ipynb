{
 "cells": [
  {
   "cell_type": "raw",
   "metadata": {
    "vscode": {
     "languageId": "raw"
    }
   },
   "source": [
    "---\n",
    "comments: false\n",
    "layout: page\n",
    "title: CSSE 2 Final Articulation\n",
    "description: Final assignment and reflection for CSSE 2\n",
    "author: Shayan Bhatti\n",
    "permalink: /csse2-final/\n",
    "---"
   ]
  },
  {
   "cell_type": "markdown",
   "metadata": {},
   "source": [
    "## Skills I learned throughout CSSE:\n",
    "<li> Forking repositories\n",
    "<li> Testing/checking games I created with my groups\n",
    "<li> Creating/editing files and folders\n",
    "<li> Troubleshooting code"
   ]
  },
  {
   "cell_type": "markdown",
   "metadata": {},
   "source": [
    "## Some types of code I learned how to Identify (With Eamples from my game):\n"
   ]
  },
  {
   "cell_type": "markdown",
   "metadata": {
    "vscode": {
     "languageId": "javascript"
    }
   },
   "source": [
    "## 1) Booleans"
   ]
  },
  {
   "cell_type": "code",
   "execution_count": null,
   "metadata": {
    "vscode": {
     "languageId": "javascript"
    }
   },
   "outputs": [],
   "source": [
    "gameControl.isPaused = false;\n",
    "// This makes sure that the game isn't paused before transitioning to a different level"
   ]
  }
 ],
 "metadata": {
  "kernelspec": {
   "display_name": "Python 3",
   "language": "python",
   "name": "python3"
  },
  "language_info": {
   "codemirror_mode": {
    "name": "ipython",
    "version": 3
   },
   "file_extension": ".py",
   "mimetype": "text/x-python",
   "name": "python",
   "nbconvert_exporter": "python",
   "pygments_lexer": "ipython3",
   "version": "3.13.1"
  }
 },
 "nbformat": 4,
 "nbformat_minor": 2
}
