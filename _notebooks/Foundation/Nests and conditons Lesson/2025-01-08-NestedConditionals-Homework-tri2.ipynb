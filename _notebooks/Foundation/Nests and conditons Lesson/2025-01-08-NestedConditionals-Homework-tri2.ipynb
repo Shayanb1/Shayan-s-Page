{
 "cells": [
  {
   "cell_type": "raw",
   "metadata": {
    "vscode": {
     "languageId": "raw"
    }
   },
   "source": [
    "---\n",
    "layout: post\n",
    "title: Nested Conditionals, Homework\n",
    "description:  Homework for nested conditionals\n",
    "type: issues \n",
    "comments: true\n",
    "---"
   ]
  },
  {
   "cell_type": "markdown",
   "metadata": {},
   "source": [
    "### Homework Objectives\n",
    "\n",
    "You and your friend want to do different things at the amusement park. To decide, you do a coin flip. Heads means that you get to choose where to go and tails means that your friend gets to choose. If you go on a ride, be sure to check if you are the right height and have enough tickets, and if you go to a food stand, make sure that you have enough money and that the food is in stock. Be creative, and make sure to use nested conditionals!"
   ]
  },
  {
   "cell_type": "markdown",
   "metadata": {},
   "source": [
    "### Instructions\n",
    "\n",
    "1) Create a JavaScript file (Ex. insertName.js)\n",
    "\n",
    "2) Plan out what you will be doing and make variables for the necessary things. There will be a coin flip, so make a variable for that. If there are rides, make a value for the amount of tickets the person has and what height they are. If they go to a food stand, you can make a variable for the amount of money that you have and if the food is in stock.\n",
    "\n",
    "3) Use Math.random() for the coin flip. This generates a number between 0 and 1, so then you multiply this value by 2 and put it inside Math.floor() to round down and get either 0 or 1. Make this the coin flip variable.\n",
    "\n",
    "4) Use an if statement to check what the result of the coin flip was and use console.log to print out a statement to see who won or lost the coin flip. Along with that, print out where they are going next.\n",
    "\n",
    "5) Use more if statements inside of if statements to check if the person can do what they want to do. (Are they tall enough, do they have enough money, etc.)\n",
    "\n",
    "6) After all the checks, print out a result of what happened. If you get stuck, you can look at the examples in the popcorn hacks. Please don't copy and paste, though! \n"
   ]
  },
  {
   "cell_type": "code",
   "execution_count": null,
   "metadata": {
    "vscode": {
     "languageId": "javascript"
    }
   },
   "outputs": [
    {
     "data": {
      "application/javascript": "\nlet coinFlip = Math.floor(Math.random() * 2);\nlet tickets = 5;\nlet height = 54;\nlet money = 15;\nlet foodStock = true;\n\nif (coinFlip === 0) {\n    console.log(\"You won the coin flip! Let's see where you're going next.\");\n\n    let nextStep = Math.floor(Math.random() * 2);\n\n    if (nextStep === 0) {\n        if (tickets >= 3 && height >= 48) {\n            console.log(\"You're tall enough and have enough tickets for the ride! Enjoy!\");\n        } else if (tickets < 3) {\n            console.log(\"Sorry, you don't have enough tickets for the ride.\");\n        } else if (height < 48) {\n            console.log(\"Sorry, you're not tall enough for the ride.\");\n        }\n    } else {\n        if (money >= 10 && foodStock) {\n            console.log(\"You have enough money and the food is in stock. Enjoy your meal!\");\n        } else if (money < 10) {\n            console.log(\"Sorry, you don't have enough money for the food.\");\n        } else if (!foodStock) {\n            console.log(\"Sorry, the food is out of stock.\");\n        }\n    }\n\n} else {\n    console.log(\"You lost the coin flip. Better luck next time!\");\n}\n",
      "text/plain": [
       "<IPython.core.display.Javascript object>"
      ]
     },
     "metadata": {},
     "output_type": "display_data"
    }
   ],
   "source": [
    "%%js\n",
    "\n",
    "let coinFlip = Math.floor(Math.random() * 2);\n",
    "let tickets = 5; // Amount of tickets you have\n",
    "let height = 54; // Your height\n",
    "let money = 15; // How much money you have\n",
    "let foodStock = true;\n",
    "\n",
    "if (coinFlip === 0) {\n",
    "    console.log(\"You won the coin flip! Let's see where you're going next.\");\n",
    "\n",
    "    let nextStep = Math.floor(Math.random() * 2);\n",
    "\n",
    "    if (nextStep === 0) {\n",
    "        if (tickets >= 3 && height >= 48) { // You need 3 or more tickets / need to be atleast 48' to go on the ride\n",
    "            console.log(\"You're tall enough and have enough tickets for the ride! Enjoy!\");\n",
    "        } else if (tickets < 3) {\n",
    "            console.log(\"Sorry, you don't have enough tickets for the ride.\");\n",
    "        } else if (height < 48) {\n",
    "            console.log(\"Sorry, you're not tall enough for the ride.\");\n",
    "        }\n",
    "    } else {\n",
    "        if (money >= 10 && foodStock) { // You need $10 and food to be in stock to get food.\n",
    "            console.log(\"You have enough money and the food is in stock. Enjoy your meal!\");\n",
    "        } else if (money < 10) {\n",
    "            console.log(\"Sorry, you don't have enough money for the food.\");\n",
    "        } else if (!foodStock) { // ifoodstock = food is not in stock\n",
    "            console.log(\"Sorry, the food is out of stock.\");\n",
    "        }\n",
    "    }\n",
    "\n",
    "} else {\n",
    "    console.log(\"You lost the coin flip. Better luck next time!\");\n",
    "}\n"
   ]
  }
 ],
 "metadata": {
  "kernelspec": {
   "display_name": "venv",
   "language": "python",
   "name": "python3"
  },
  "language_info": {
   "codemirror_mode": {
    "name": "ipython",
    "version": 3
   },
   "file_extension": ".py",
   "mimetype": "text/x-python",
   "name": "python",
   "nbconvert_exporter": "python",
   "pygments_lexer": "ipython3",
   "version": "3.13.1"
  }
 },
 "nbformat": 4,
 "nbformat_minor": 2
}
