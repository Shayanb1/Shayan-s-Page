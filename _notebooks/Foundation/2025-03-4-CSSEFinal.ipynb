{
 "cells": [
  {
   "cell_type": "raw",
   "metadata": {
    "vscode": {
     "languageId": "raw"
    }
   },
   "source": [
    "---\n",
    "comments: false\n",
    "layout: page\n",
    "title: CSSE1 Reflection\n",
    "description: Final assignment and reflection for CSSE1\n",
    "author: Shayan Bhatti\n",
    "permalink: /csse1-final/\n",
    "---"
   ]
  },
  {
   "cell_type": "markdown",
   "metadata": {},
   "source": [
    "\n",
    "<h2>5 Core Skills I Learned in this class (1st point)</h2>\n",
    "<ul>\n",
    "    <li>Well understanding of Booleans and Variables as I taught that in my lesson</li>\n",
    "    <li>Installing and verifying tools</li>\n",
    "    <li>Creating files in VS Code and learning how VS Code works</li>\n",
    "    <li>Learning how to colobarate with a group in coding</li>\n",
    "    <li>Learning how to troubleshoot my code, and use feedback from others efficiently</li>\n",
    "</ul>\n",
    "<br>\n"
   ]
  },
  {
   "cell_type": "markdown",
   "metadata": {},
   "source": [
    "\n",
    "<h2>Tinkers (2nd point)</h2>\n",
    "<ul>\n",
    "    <Li> A sprite that moves by itself around the screen\n",
    "    <Li> Visible hitboxes of both Player and NPC to show who is it in tag game\n",
    "    <Li> A colored border around the map for player to be able to tell the boundries of the game more easily\n",
    "<ul>\n",
    "⬇︎Tinkers shown in code under this box⬇"
   ]
  },
  {
   "cell_type": "markdown",
   "metadata": {
    "vscode": {
     "languageId": "javascript"
    }
   },
   "source": [
    "![Better Proof](/images/notebooks/foundation/betterproof.png)"
   ]
  },
  {
   "cell_type": "markdown",
   "metadata": {},
   "source": [
    "<h2>N@TM Feedback from peers</h2>\n",
    "\n",
    "<ul>\n",
    "\n",
    "#### AP CSP Stduent feedback\n",
    "<li>Game seemed incomplete and had lots of potential if there were some more game functions</li>\n",
    "\n",
    "<li>Sprites needed to be fixed as most of them were cut off, not showing the whole sprite</li>\n",
    "\n",
    "<li>The game would have been really good if we could have gotten the player to see who is \"it\" in the tag game</li>\n",
    "\n",
    "<li>The game would be better if I had made it a 2-player game rather than a player vs npc game</li>\n",
    "\n",
    "#### CSSE Student feedback\n",
    "<li>The background needs to fit the whole screen for the player to tell how big the area to play is, instead of a colored border</li>\n",
    "\n",
    "<li>Hitboxes should be visible on the npc, not only player</li>\n",
    "\n",
    "<li>Npc movement was cool as it moves around the screen by itself</li>\n",
    "</ul>\n"
   ]
  },
  {
   "cell_type": "markdown",
   "metadata": {},
   "source": [
    "<h2>My Strengths, Weaknesses, and Plans for the Future</h2>\n",
    "<h3>Strengths (not done)</h3>\n",
    "<ul>\n",
    "    <li>Solid understanding of GitHub and the tools related to that</li>\n",
    "    <li>Good understanding of web development technologies such as HTML, CSS, and JavaScript</li>\n",
    "    <li>Effective communication, leadership, organization, and teamwork skills, especially in collaborative projects</li>\n",
    "</ul>\n",
    "<h3>Weaknesses (not done)</h3>\n",
    "<ul>\n",
    "    <li>Limited experience with backend development and databases</li>\n",
    "    <li>Less than great knowledge of JS syntax and skills beyond fundamentals</li>\n",
    "    <li>Grit and perseverance skills could use a bit of work</li>\n",
    "</ul>"
   ]
  },
  {
   "cell_type": "markdown",
   "metadata": {},
   "source": [
    "<h1>Future Plans (not done)</h1>\n",
    "<ul>\n",
    "    <li>Finish my tag game and make it fun for players by using feedback from my peers</li>\n",
    "    <li>Learn more about Javascript outside of school to help me in the next CS course</li>\n",
    "    <li>Utalize my new skills into creating new games for practice</li>\n",
    "    <li>Project I completed with a friend: <a href=\"https://github.com/Nikhile22427/ISEF\">link</a></li>\n",
    "</ul>"
   ]
  },
  {
   "cell_type": "markdown",
   "metadata": {},
   "source": [
    "<h1>Self-Assessment</h1>\n",
    "\n",
    "Looking back on my performance in this course, I feel I have shown a solid grasp of the key concepts and skills covered. I have effectively utilized GitHub, and collaborated well with my peers, as demonstrated in my projects. Although there is still room for improvement, deepening my understanding of various tools, and mastering advanced JavaScript—I am proud of my progress and dedication to learning. Given my accomplishments and areas for growth, I would assign myself a final grade of 0.87/1, recognizing both my achievements and the heavy potential for further development.\n"
   ]
  }
 ],
 "metadata": {
  "language_info": {
   "name": "python"
  }
 },
 "nbformat": 4,
 "nbformat_minor": 2
}
