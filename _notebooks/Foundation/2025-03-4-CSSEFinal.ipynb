{
 "cells": [
  {
   "cell_type": "raw",
   "metadata": {
    "vscode": {
     "languageId": "raw"
    }
   },
   "source": [
    "---\n",
    "comments: false\n",
    "layout: page\n",
    "title: CSSE1 Reflection\n",
    "description: Final assignment and reflection for CSSE1\n",
    "author: Shayan Bhatti\n",
    "permalink: /csse1-final/\n",
    "---"
   ]
  },
  {
   "cell_type": "markdown",
   "metadata": {},
   "source": [
    "\n",
    "<h2>5 Core Skills I Learned in this class (1st point)</h2>\n",
    "\n",
    "### 1. Well understanding of Booleans and Variables as I taught that in my lesson\n",
    "As I was learning what booleans are, at first I thought that it was just 1+1=2 or something like that, but as I dug deeper into the topic I learned a lot of cool commands in booleans, sometimes it can be just like math. This lesson helped me develope in many ways as I learned about both Booleans and about Variables because they are 2 very similar topics and I really enjoyed that topic.\n",
    "### 2. Installing and verifying tools\n",
    "In the beginning of the class I thought my computer automatically had tools installed and I could just relax because I thoguht everything was going to be easy, but then I saw how other students were doing work that I should have been doing, which was when I learned from my peers how to install tools and then verify them after which made me have a greater understanding of what will come next in the class and what to expect.\n",
    "### 3. Creating files in VS Code and learning how VS Code works\n",
    "VS code used to be insanly confusing to me, at first I didn't even know how to install the app on my computer, but as I progressed through this course, my teachers/ta's tought me everything I know about VS code, like creating files, creating images, blogs, and even my homepage in my blog. In VS code I learned what a terminal is and how to use it, I learned how to find paths of files to create pathways into other files, and I also learned how to create cool projects like my Snake game and RPG game.\n",
    "### 4. Learning how to colobarate with a group in coding\n",
    "Colaborating with a group has been a big struggle for me in lots of classes because I usually don't understand all of the material, and even thoguh in this course I may not have been the best programmmer in every topic, I really appreciated the oppertunity to work with a group to create my own teaching lesson. That experience was really valuable to me because it showed me what it feels like to grade people, teach a lesson, and work with new people.\n",
    "### 5. Learning how to troubleshoot my code, and use feedback from others efficiently\n",
    "One of my favorite parts in this course was troubleshooting, for a long time in this class I didn't even know what troubleshooting meant but as I learned what troubleshooting is and how to do it alone, it slowly became one of my favorite parts about the class, because as I trouble shoot I feel like it is a great sucess when I fix my errors correctly without having to get someone else to fix my code for me. Also, using feedback from others was a great skill that I learned, after I created my game I had lots of feedback from both family and friends, as I listened to all this feedback I realized that if I had asked more questions applying to the feedback earlier, I could have had a really good game, which is how I learned to try to look for as much feedback as I can at all times.\n",
    "\n",
    "\n"
   ]
  },
  {
   "cell_type": "markdown",
   "metadata": {},
   "source": [
    "\n",
    "<h2>Tinkers & Flowchart (2nd & 3rd point)</h2>\n",
    "<ul>\n",
    "    <Li> A sprite that moves by itself around the screen\n",
    "    <Li> A colored border around the map for player to be able to tell the boundries of the game more easily\n",
    "<ul>\n"
   ]
  },
  {
   "cell_type": "markdown",
   "metadata": {},
   "source": [
    "<li><a href=\"https://kkatzenn.github.io/SPgame//navigation/spGame\">Link to my game</a></li>"
   ]
  },
  {
   "cell_type": "markdown",
   "metadata": {
    "vscode": {
     "languageId": "html"
    }
   },
   "source": [
    "<img src=\"../../images/notebooks/foundation/betterproof.png\" alt=\"Better proof image\">\n",
    "<li> This is the sprite bouncing around the screen"
   ]
  },
  {
   "cell_type": "markdown",
   "metadata": {},
   "source": [
    "<img src=\"../../images/notebooks/foundation/Proof.png\" alt=\"proof image\">\n",
    "<li> The code for the npc's speed while it moves by itself"
   ]
  },
  {
   "cell_type": "markdown",
   "metadata": {
    "vscode": {
     "languageId": "javascript"
    }
   },
   "source": [
    "<img src=\"../../images/notebooks/foundation/borderstyle.png\" alt=\"Border tinker\">\n",
    "<li> This is the code for my border tinker"
   ]
  },
  {
   "cell_type": "markdown",
   "metadata": {},
   "source": [
    "<img src=\"../../images/notebooks/foundation/flowchart.png\" alt=\"Border tinker\">\n",
    "This is my flowchart"
   ]
  },
  {
   "cell_type": "markdown",
   "metadata": {},
   "source": [
    "<h2>N@TM Feedback from peers & Interest in a game (4th Point)</h2>\n",
    "Main Feedback that I recieved while presenting my RPG game.\n",
    "<ul>\n",
    "\n",
    "<h4> AP CSP Stduent feedback <h4>\n",
    " <li>Game seemed incomplete and had lots of potential if there were some more game functions</li>\n",
    "\n",
    " <li>Sprites needed to be fixed as most of them were cut off, not showing the whole sprite</li>\n",
    "\n",
    " <li>The game would have been really good if we could have gotten the player to see who is \"it\" in the tag game</li>\n",
    "\n",
    " <li>The game would be better if I had made it a 2-player game rather than a player vs npc game</li>\n",
    "\n",
    "<h4>CSSE Student feedback <h4>\n",
    "\n",
    " <li>The background needs to fit the whole screen for the player to tell how big the area to play is, instead of a colored border</li>\n",
    "\n",
    " <li>Hitboxes should be visible on the npc, not only player</li>\n",
    "\n",
    " <li>Npc movement was cool as it moves around the screen by itself</li>\n",
    "</ul>\n"
   ]
  },
  {
   "cell_type": "markdown",
   "metadata": {},
   "source": [
    "<img src=\"../../images/notebooks/foundation/interest.png\" alt=\"interest\">\n",
    "<li> This is a different game at N@TM that I really liked because it had some cool elements, and I thought the sprites were pretty intresting, this game was made my Evan S."
   ]
  },
  {
   "cell_type": "markdown",
   "metadata": {},
   "source": [
    "<h1>Future Plans</h1>\n",
    "<ul>\n",
    "    <li>Finish my tag game and make it fun for players by using feedback from my peers</li>\n",
    "    <li>Learn more about Javascript outside of school to help me in the next CS course</li>\n",
    "    <li>Utalize my new skills into creating new games for practice</li>\n",
    "    \n",
    "</ul>"
   ]
  },
  {
   "cell_type": "markdown",
   "metadata": {},
   "source": [
    "<h1>Self-Assessment (5th point)</h1>\n",
    "\n",
    "Looking back on my performance in this course, I feel I have shown a solid grasp of the key concepts and skills covered. I have effectively utilized GitHub, and collaborated well with my peers, as demonstrated in my projects. Although there is still room for improvement, deepening my understanding of various tools, and progressing through advanced JavaScript—I am proud of my progress and dedication to learning. Given my accomplishments and areas for growth, I would assign myself a final grade of 0.87/1, recognizing both my achievements and the heavy potential for further development.\n"
   ]
  }
 ],
 "metadata": {
  "kernelspec": {
   "display_name": "Python 3",
   "language": "python",
   "name": "python3"
  },
  "language_info": {
   "codemirror_mode": {
    "name": "ipython",
    "version": 3
   },
   "file_extension": ".py",
   "mimetype": "text/x-python",
   "name": "python",
   "nbconvert_exporter": "python",
   "pygments_lexer": "ipython3",
   "version": "3.13.1"
  }
 },
 "nbformat": 4,
 "nbformat_minor": 2
}
