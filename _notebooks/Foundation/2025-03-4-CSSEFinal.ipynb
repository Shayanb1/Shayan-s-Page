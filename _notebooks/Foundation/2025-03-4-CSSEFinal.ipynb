{
 "cells": [
  {
   "cell_type": "raw",
   "metadata": {
    "vscode": {
     "languageId": "raw"
    }
   },
   "source": [
    "---\n",
    "comments: false\n",
    "layout: page\n",
    "title: CSSE1 Retrospective\n",
    "description: Final assignment and reflection for CSSE1\n",
    "author: Shayan Bhatti\n",
    "permalink: /csse1-final/\n",
    "---"
   ]
  },
  {
   "cell_type": "markdown",
   "metadata": {},
   "source": [
    "\n",
    "<h2>5 Core Skills I Learned in this class</h2>\n",
    "<ul>\n",
    "    <li>Well understanding of Booleans and Variables as I taught that in my lesson</li>\n",
    "    <li>Issues and variables lesson teach</li>\n",
    "    <li>Tools installation, verification, etc.</li>\n",
    "    <li>Use of .md, .html, and other such file types to create functioning, interactive webpages</li>\n",
    "    <li>Collaboration and communication skills for group projects</li>\n",
    "</ul>\n",
    "<br>\n"
   ]
  },
  {
   "cell_type": "markdown",
   "metadata": {},
   "source": [
    "<h2>N@TM Feedback from peers</h2>\n",
    "Main Feedback that I recieved while presenting my RPG game.\n",
    "<ul>\n",
    "<li>Many peers told me that the game seemed incomplete and had lots of potential if there were some more game functions</li>\n",
    "<li>Sprites needed to be fixed as most of them were cut off, not showing the whole sprite .</li>\n",
    "<li>The game would have been really good if we could have gotten the player to see who is \"it\" in the tag game.</li>\n",
    "</ul>\n"
   ]
  },
  {
   "cell_type": "markdown",
   "metadata": {},
   "source": [
    "<h2>Other Projects I Found Cool</h2>\n",
    "<ul>\n",
    "    <li>Bathroom Pass</li>\n",
    "    <ul>\n",
    "            <li>Clever integration of Student ID into bathroom pass and effective way of keeping track of students who go</li>\n",
    "            <li>Real-time tracking and time-in/time-out data</li>\n",
    "            <li>One piece of feedback: making the information more accessible (moving recent entries to the top of the list) and readable (specifically in/out column).</li>\n",
    "    </ul>\n",
    "    <li>Aesthetihawk</li>\n",
    "    <ul>\n",
    "        <li>Improves Nighthawk Pages look significantly</li>\n",
    "        <li>Customization and integration into websites is smooth</li>\n",
    "    </ul>\n",
    "</ul>\n"
   ]
  },
  {
   "cell_type": "markdown",
   "metadata": {},
   "source": [
    "<h2>My Strengths, Weaknesses, and Plans for the Future</h2>\n",
    "<h3>Strengths</h3>\n",
    "<ul>\n",
    "    <li>Solid understanding of GitHub and the tools related to that</li>\n",
    "    <li>Good understanding of web development technologies such as HTML, CSS, and JavaScript</li>\n",
    "    <li>Effective communication, leadership, organization, and teamwork skills, especially in collaborative projects</li>\n",
    "</ul>\n",
    "<h3>Weaknesses</h3>\n",
    "<ul>\n",
    "    <li>Limited experience with backend development and databases</li>\n",
    "    <li>Less than great knowledge of JS syntax and skills beyond fundamentals</li>\n",
    "    <li>Grit and perseverance skills could use a bit of work</li>\n",
    "</ul>"
   ]
  },
  {
   "cell_type": "markdown",
   "metadata": {},
   "source": [
    "<h1>Future Plans</h1>\n",
    "<ul>\n",
    "    <li>Expand game level using above feedback (plans shown there, too)</li>\n",
    "    <li>Continue learning JS and advanced mechanics in DOM/OOP settings</li>\n",
    "    <li>Apply skills I already have to independent projects (GSDSEF)</li>\n",
    "    <li>Project I completed with a friend: <a href=\"https://github.com/Nikhile22427/ISEF\">link</a></li>\n",
    "</ul>"
   ]
  },
  {
   "cell_type": "markdown",
   "metadata": {},
   "source": [
    "<h1>Self-Assessment</h2>\n",
    "<p>Reflecting on my performance throughout this course, I believe I have demonstrated a strong understanding of the core concepts and skills taught. My ability to effectively use GitHub, develop interactive web pages, and collaborate with peers has been evident in the projects I have completed. While I recognize there are areas for improvement, particularly in backend development, solidifying my tools knowledge, and advanced JavaScript, I am confident in my progress and commitment to learning. Therefore, I would give myself a final grade of 0.93/1, acknowledging both my achievements and the potential for further growth.</p>\n"
   ]
  }
 ],
 "metadata": {
  "language_info": {
   "name": "python"
  }
 },
 "nbformat": 4,
 "nbformat_minor": 2
}
