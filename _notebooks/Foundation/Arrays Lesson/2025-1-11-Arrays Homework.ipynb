{
 "cells": [
  {
   "cell_type": "markdown",
   "metadata": {},
   "source": [
    "# Homework!! #\n",
    "\n",
    "Your task is to fill in the following code to alter the arrays!"
   ]
  },
  {
   "cell_type": "markdown",
   "metadata": {},
   "source": [
    "# Lesson 1 Homework"
   ]
  },
  {
   "cell_type": "code",
   "execution_count": 7,
   "metadata": {
    "vscode": {
     "languageId": "javascript"
    }
   },
   "outputs": [
    {
     "data": {
      "application/javascript": "//We have an array made for you, but something's off...\nlet desserts = [\"lemon\",\"delete1\",\"ice cream\",\"chocolate cake\",\"key lime pie\",\"delete2\"];\n//We need to get rid of the elements labeled delete1 and delete2!\ndesserts.pop();//which command gets rid of the last element in the array?\ndesserts.splice(1,1);//which command will delete the delete 1 element and how do you use it??\n\n//now that that's done... a lemon isn't a dessert unless you're weird... maybe change it to a lemon-themed dessert?\ndesserts[\"lemon\"]=\"browines\";\n\n//hint for the previous 2 fill-in-the-blanks: the indexing starts at 0\n\n//okay okay, you've proven your skills... now all that's left is to print the list!\nconsole.log(desserts);\n",
      "text/plain": [
       "<IPython.core.display.Javascript object>"
      ]
     },
     "metadata": {},
     "output_type": "display_data"
    }
   ],
   "source": [
    "%%js\n",
    "//We have an array made for you, but something's off...\n",
    "let desserts = [\"lemon\",\"delete1\",\"ice cream\",\"chocolate cake\",\"key lime pie\",\"delete2\"];\n",
    "//We need to get rid of the elements labeled delete1 and delete2!\n",
    "desserts.pop();//which command gets rid of the last element in the array?\n",
    "desserts.splice(1,1);//which command will delete the delete 1 element and how do you use it??\n",
    "\n",
    "//now that that's done... a lemon isn't a dessert unless you're weird... maybe change it to a lemon-themed dessert?\n",
    "desserts[\"lemon\"]=\"browines\";\n",
    "\n",
    "//hint for the previous 2 fill-in-the-blanks: the indexing starts at 0\n",
    "\n",
    "//okay okay, you've proven your skills... now all that's left is to print the list!\n",
    "console.log(desserts);"
   ]
  },
  {
   "cell_type": "markdown",
   "metadata": {},
   "source": [
    "# Lesson 2 Homework - Part 1"
   ]
  },
  {
   "cell_type": "code",
   "execution_count": 8,
   "metadata": {
    "vscode": {
     "languageId": "javascript"
    }
   },
   "outputs": [
    {
     "data": {
      "application/javascript": "// Step 1: Create a list with a repeating element\nlet list = [7, 2, 5, 3, 7, 8, 3]; // List contains repeating elements: 7 and 3\n\n// Step 2: Use a for loop to iterate through each element and print its index\nfor (let i = 0; i < list.length; i++) {\n    console.log(`Element: ${list[i]}, Index: ${i}`); // Print the current element and its index\n}\n\n// Step 3: Find and print the index of the last occurring repeated value\nlet something = -1; // Initialize a variable to store the last repeated index\n\n// Nested loop to check for repeated elements\nfor (let i = 0; i < list.length; i++) {\n    for (let j = i + 1; j < list.length; j++) {\n        // If a repeated element is found, update the lastRepeatedIndex\n        if (list[i] === list[j]) {\n            something = j;\n        }\n    }\n}\n\n// Step 4: Print the index of the last occurring repeated value\nif (something !== -1) {\n    console.log(`Index of the last occurring repeated value: ${something}`);\n} else {\n    console.log(\"No repeated values found.\"); // In case no repeated elements exist\n}\n",
      "text/plain": [
       "<IPython.core.display.Javascript object>"
      ]
     },
     "metadata": {},
     "output_type": "display_data"
    }
   ],
   "source": [
    "%%js\n",
    "// Step 1: Create a list with a repeating element\n",
    "let list = [7, 2, 5, 3, 7, 8, 3]; // List contains repeating elements: 7 and 3\n",
    "\n",
    "// Step 2: Use a for loop to iterate through each element and print its index\n",
    "for (let i = 0; i < list.length; i++) {\n",
    "    console.log(`Element: ${list[i]}, Index: ${i}`); // Print the current element and its index\n",
    "}\n",
    "\n",
    "// Step 3: Find and print the index of the last occurring repeated value\n",
    "let something = -1; // Initialize a variable to store the last repeated index\n",
    "\n",
    "// Nested loop to check for repeated elements\n",
    "for (let i = 0; i < list.length; i++) {\n",
    "    for (let j = i + 1; j < list.length; j++) {\n",
    "        // If a repeated element is found, update the lastRepeatedIndex\n",
    "        if (list[i] === list[j]) {\n",
    "            something = j;\n",
    "        }\n",
    "    }\n",
    "}\n",
    "\n",
    "// Step 4: Print the index of the last occurring repeated value\n",
    "if (something !== -1) {\n",
    "    console.log(`Index of the last occurring repeated value: ${something}`);\n",
    "} else {\n",
    "    console.log(\"No repeated values found.\"); // In case no repeated elements exist\n",
    "}\n"
   ]
  },
  {
   "cell_type": "markdown",
   "metadata": {},
   "source": [
    "# Lesson 2 Homework - Part 2"
   ]
  },
  {
   "cell_type": "code",
   "execution_count": null,
   "metadata": {
    "vscode": {
     "languageId": "javascript"
    }
   },
   "outputs": [
    {
     "data": {
      "application/javascript": "//This is the fairly simple final problem of arrays!\n\n//Create a list here that includes whatever you'd like once again.\n\nlet list = [1,2,3];\n\n//Now, print the length of your list! Tip: you don't need to create a variable for the list's length! Just console.log the list.length; it saves you a line :D\n\nconsole.log(list.length);\n\n//Finally, create a variable to check if a value in your list is included in the list and print that variable you created (it should output true or false)\n\nlet includes = list.includes(4);\nconsole.log(includes);\n",
      "text/plain": [
       "<IPython.core.display.Javascript object>"
      ]
     },
     "metadata": {},
     "output_type": "display_data"
    }
   ],
   "source": [
    "%%js\n",
    "// Step 1: Create a list with any elements you'd like\n",
    "let list = [10, 20, 30, 40, 50]; // A list of integers, but you can use strings or other types as well\n",
    "\n",
    "// Step 2: Print the length of the list\n",
    "console.log(list.length); // Use the .length property to print the number of elements in the list\n",
    "\n",
    "// Step 3: Check if a specific value is included in the list\n",
    "let rachit = 30; // The value to check for in the list\n",
    "let t = myList.includes(rachit); // Use the .includes() method to check for the value\n",
    "console.log(t); // Print the result (true or false)\n"
   ]
  },
  {
   "cell_type": "markdown",
   "metadata": {
    "vscode": {
     "languageId": "javascript"
    }
   },
   "source": [
    "You're done with your homework!!"
   ]
  }
 ],
 "metadata": {
  "kernelspec": {
   "display_name": "venv",
   "language": "python",
   "name": "python3"
  },
  "language_info": {
   "codemirror_mode": {
    "name": "ipython",
    "version": 3
   },
   "file_extension": ".py",
   "mimetype": "text/x-python",
   "name": "python",
   "nbconvert_exporter": "python",
   "pygments_lexer": "ipython3",
   "version": "3.13.1"
  }
 },
 "nbformat": 4,
 "nbformat_minor": 2
}
